{
 "cells": [
  {
   "cell_type": "code",
   "execution_count": 37,
   "metadata": {},
   "outputs": [],
   "source": [
    "from selenium import webdriver\n",
    "from selenium.webdriver.common.keys import Keys\n",
    "import time\n",
    "from selenium.webdriver.common.action_chains import ActionChains\n",
    "from selenium.common.exceptions import NoSuchElementException, StaleElementReferenceException\n",
    "from selenium.webdriver.support.ui import WebDriverWait\n",
    "from selenium.webdriver.support import expected_conditions as EC\n",
    "from selenium.webdriver.common.by import By\n",
    "\n",
    "chrome_options = webdriver.ChromeOptions()\n",
    "driver = webdriver.Chrome(options=chrome_options)\n",
    "driver.get('https://www.monster.com/jobs/search?q=Data+Scientist&where=Amsterdam%2C+NY&page=1&so=m.s.sh')"
   ]
  },
  {
   "cell_type": "code",
   "execution_count": 38,
   "metadata": {},
   "outputs": [],
   "source": [
    "job_site = []\n",
    "job_descriptions = []\n",
    "job_role = []\n",
    "job_location = []\n",
    "job_companyName = []\n",
    "job_salary = []\n",
    "\n",
    "\n",
    "\n",
    "posts = driver.find_elements(By.XPATH, \"//li[@class='sc-blKGMR etPslv']\")\n",
    "action = ActionChains(driver)\n",
    "\n",
    "for i in range(0, len(posts[:-2])):  \n",
    "    action.click(on_element = posts[i])\n",
    "    action.perform()\n",
    "    WebDriverWait(driver, 20).until(EC.element_to_be_clickable((By.XPATH, \"//div[@class='descriptionstyles__DescriptionBody-sc-13ve12b-4 crOoVX']\")))\n",
    "    job_description = driver.find_element(By.XPATH, \"//div[@class='descriptionstyles__DescriptionBody-sc-13ve12b-4 crOoVX']\")\n",
    "    try:\n",
    "      role = posts[i].find_element(By.XPATH, \".//a[@data-testid='jobTitle']\")\n",
    "      job_role.append(role.text)\n",
    "    except NoSuchElementException:\n",
    "      job_role.append(\"null\")\n",
    "    try:\n",
    "      location = posts[i].find_element(By.XPATH, \".//span[@data-testid='jobDetailLocation']\")\n",
    "      job_location.append(location.text)\n",
    "    except NoSuchElementException:\n",
    "      job_location.append(\"null\")\n",
    "    try:\n",
    "      name = posts[i].find_element(By.XPATH, \".//span[@data-testid='company']\")\n",
    "      job_companyName.append(name.text)\n",
    "    except NoSuchElementException:\n",
    "      job_companyName.append(\"null\")\n",
    "    try:\n",
    "      salary = posts[i].find_element(By.XPATH, \".//span[@class='sc-fKMpNL dasswI ds-tag-label']\")\n",
    "      job_salary.append(salary.text)\n",
    "    except NoSuchElementException:\n",
    "      job_salary.append(\"null\")\n",
    "\n",
    "    \n",
    "    job_descriptions.append(job_description.text)\n",
    "    job_site.append(\"Monster\")\n",
    "    "
   ]
  },
  {
   "cell_type": "code",
   "execution_count": 39,
   "metadata": {},
   "outputs": [],
   "source": [
    "import pandas as pd\n",
    "\n",
    "\n",
    "aux = pd.DataFrame({\n",
    "    'site': [],\n",
    "    'role': [],\n",
    "    'job_level': [],\n",
    "    'job_companyName': [],\n",
    "    'job_descriptions': [],\n",
    "    'location': [],\n",
    "    'salary': []\n",
    "})\n",
    "\n",
    "aux['site'] = job_site\n",
    "aux['role'] = job_role\n",
    "aux['job_level'] = job_role\n",
    "aux['location'] = job_location\n",
    "aux['job_companyName'] = job_companyName\n",
    "aux['job_descriptions'] = job_descriptions\n",
    "aux['salary'] = job_salary"
   ]
  },
  {
   "cell_type": "code",
   "execution_count": 40,
   "metadata": {},
   "outputs": [
    {
     "data": {
      "text/plain": [
       "(10, 7)"
      ]
     },
     "execution_count": 40,
     "metadata": {},
     "output_type": "execute_result"
    }
   ],
   "source": [
    "aux.head(n=9)\n",
    "aux.shape"
   ]
  },
  {
   "cell_type": "code",
   "execution_count": 41,
   "metadata": {},
   "outputs": [],
   "source": [
    "aux.to_csv('job_posts_Amsterdam.csv', index=False)"
   ]
  },
  {
   "cell_type": "code",
   "execution_count": 42,
   "metadata": {},
   "outputs": [
    {
     "data": {
      "text/plain": [
       "(2871, 7)"
      ]
     },
     "execution_count": 42,
     "metadata": {},
     "output_type": "execute_result"
    }
   ],
   "source": [
    "posts_dataframe = pd.read_csv('job_posts_final.csv')\n",
    "posts_dataframe = pd.concat([posts_dataframe,pd.read_csv('job_posts_Amsterdam.csv'),])\n",
    "posts_dataframe.shape"
   ]
  },
  {
   "cell_type": "code",
   "execution_count": 43,
   "metadata": {},
   "outputs": [
    {
     "data": {
      "text/plain": [
       "(2871, 7)"
      ]
     },
     "execution_count": 43,
     "metadata": {},
     "output_type": "execute_result"
    }
   ],
   "source": [
    "posts_dataframe.to_csv('monster_dataScientist_nouhaila.csv', index=False)  \n",
    "posts_dataframe = pd.read_csv('monster_dataScientist_nouhaila.csv')\n",
    "posts_dataframe.shape"
   ]
  },
  {
   "cell_type": "code",
   "execution_count": null,
   "metadata": {},
   "outputs": [],
   "source": [
    "\"\"\"\n",
    "\n",
    "site\n",
    "role\n",
    "job_level\n",
    "company_name\n",
    "job_description\n",
    "location\n",
    "salary\n",
    "\n",
    "\"\"\""
   ]
  }
 ],
 "metadata": {
  "kernelspec": {
   "display_name": "Python 3",
   "language": "python",
   "name": "python3"
  },
  "language_info": {
   "codemirror_mode": {
    "name": "ipython",
    "version": 3
   },
   "file_extension": ".py",
   "mimetype": "text/x-python",
   "name": "python",
   "nbconvert_exporter": "python",
   "pygments_lexer": "ipython3",
   "version": "3.11.4"
  }
 },
 "nbformat": 4,
 "nbformat_minor": 2
}
